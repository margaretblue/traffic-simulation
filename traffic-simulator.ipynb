{
 "cells": [
  {
   "cell_type": "code",
   "execution_count": 1,
   "metadata": {
    "collapsed": true
   },
   "outputs": [],
   "source": [
    "import math\n",
    "import matplotlib.pyplot as plt\n",
    "import numpy as np\n",
    "import random\n",
    "import statistics\n",
    "\n",
    "class Road:\n",
    "    \"\"\"has length, type, chance of random slowing down, Tracks where cars are\n",
    "        Road looks like this:\n",
    "        |  |  |  |  |  |  |  |  |  |  |  |  |  |  |  |  |  |  |  |  | ... | <= end\n",
    "        0  1  2  3  4  5  6  7  8  9  10 11 12 13 14 15 16 17 18 19 20    999\n",
    "        c3 c3 c3 c3 c3    c2 c2 c2 c2 c2          c1 c1 c1 c1 c1\n",
    "                                                   ^           ^\n",
    "        c1 is car.car_number 1                     |           |\n",
    "                                                c1's rear   c1's front\n",
    "        \"\"\"\n",
    "\n",
    "    def __init__(self, road_length=1000, road_type='straight', slowdown_percent=1):\n",
    "        self.road_length = road_length\n",
    "        self.road_type = road_type\n",
    "        self.slowdown_percent = slowdown_percent\n",
    "        self.road_positions_array = None\n",
    "\n",
    "\n",
    "class Car:\n",
    "\n",
    "    def __init__(self, car_name, current_position = 0, current_speed = 0, car_size=5, car_type='normal',\n",
    "                 acceleration=2, max_speed=33.333, spacing_multiplier=1, chance_of_deceleration=.10,\n",
    "                 percent_of_population=1):\n",
    "        self.car_name = car_name    # car's initial place in line\n",
    "        self.car_size = car_size        # car length in meters\n",
    "        self.current_speed = current_speed\n",
    "        self.type = car_type            # normal, aggressive or commercial\n",
    "        self.acceleration = acceleration #  meters/s of acelleration until reach their max_speed if they haveve room\n",
    "        self.max_speed = max_speed      # desired speed\n",
    "        self.spacing_multiplier = spacing_multiplier #want at least a number of meters equal to their speed in meters/s\n",
    "        self.chance_of_deceleration = chance_of_deceleration  #percent chance that driver will randomly slow down by 2ms\n",
    "        self.percent_of_population = percent_of_population #percent representation of population of drivers on road\n",
    "        self.current_position = current_position    #current position of TAIL of car in road\n",
    "\n",
    "        def __str__(self):\n",
    "            return \"car[{car_name}]'s object\".format(self.car_name)\n",
    "\n",
    "        def move_own_car(self):\n",
    "            \"\"\"Just update position of self\"\"\"\n",
    "            self.current_position = (self.current_position + self.current_speed) % 1000\n",
    "            return self.current_position\n",
    "\n",
    "class Simulation:\n",
    "    \"\"\"ONE 60-second trial\"\"\"\n",
    "    def __init__(self, number_of_cars_on_road=30, duration=60, time_interval=1,\n",
    "                 car_objects_dict = {}, speed_snapshots_array=[],\n",
    "                 position_snapshots_array=[], second=0 ):\n",
    "        self.number_of_cars_on_road = number_of_cars_on_road\n",
    "        self.duration = duration                  #duration of 1 simulation in seconds, currently 60 seconds\n",
    "        self.time_interval = time_interval                #snapshot/step point of speed, currently 1 second\n",
    "        self.car_objects_dict  = car_objects_dict # {[0: <carobject>, 1: <carobject>}\n",
    "        self.speed_snapshots_array = speed_snapshots_array\n",
    "        self.position_snapshots_array = position_snapshots_array\n",
    "        self.second = second\n",
    "\n",
    "    def make_cars(self):\n",
    "        \"\"\"Instantiates 30 cars & puts their objects in car_objects_dict\"\"\"\n",
    "        for i, car_obj in enumerate((range(self.number_of_cars_on_road))):\n",
    "            # TODO: need to pass it current_position\n",
    "            self.car_objects_dict[i] = Car(i)\n",
    "\n",
    "    def get_car_object_by_name(self, car_name):\n",
    "        \"\"\"Given a car's name return the car object\"\"\"\n",
    "        return self.car_objects_dict[car_name]\n",
    "\n",
    "    def layout_cars(self):\n",
    "        \"\"\"Updates each car's current_position and creates initial layout list\"\"\"\n",
    "        distances_of_cars_array = np.round(np.linspace(0,1000,31)) #for 30 car, have 31 spaces\n",
    "        layout_list = []\n",
    "        for i in range(30):\n",
    "            x = -1 * (i+2)\n",
    "            tail_position = distances_of_cars_array[x]\n",
    "            layout_list.append(tail_position)\n",
    "            #update car object's current_position\n",
    "            self.get_car_object_by_name(i).current_position = tail_position\n",
    "        \"\"\"car in front of car0 is car29\n",
    "            car in front of car1 is car0\n",
    "            car in front of car2 is car1 \"\"\"\n",
    "        return layout_list\n",
    "\n",
    "    def move_all_cars(self):\n",
    "        \"\"\"Move car ONE second. Uses speed rules to determine speed\n",
    "        updates car's current_position in car object\n",
    "        reports speed to speed_snapshots_array\n",
    "        reports position to position_snapshots_array\"\"\"\n",
    "        for i in range(30):\n",
    "            # 1. Update speed\n",
    "            my_car = self.car_objects_dict[i]\n",
    "            if i == 0:\n",
    "                car_in_front = self.car_objects_dict[29]\n",
    "            else:\n",
    "                car_in_front = self.car_objects_dict[i-1]\n",
    "            # collision occurs when car_in_front == my_front\n",
    "            speed = self.determine_speed(my_car, car_in_front)\n",
    "            self.speed_snapshots_array[self.second,i] = speed\n",
    "            my_car.current_speed = speed\n",
    "            # TODO ERROR! AttributeError: 'Car' object has no attribute 'move_own_car'\n",
    "            # like hell it doesnt!\n",
    "            # new_position = my_car.move_own_car()\n",
    "            my_car.current_position = (my_car.current_position + my_car.current_speed) % 1000\n",
    "            self.position_snapshots_array[self.second,i] = my_car.current_position\n",
    "\n",
    "    def determine_speed(self, my_car, car_in_front):\n",
    "        my_front = my_car.current_position + my_car.car_size\n",
    "        current_speed = self.speed_snapshots_array[(self.second-1),my_car.car_name]\n",
    "        #print(\"current speed for car{} is {}\".format(my_car.car_name, current_speed))\n",
    "        # if car Random Slow DOwn\n",
    "        if current_speed > 2 and self.will_randomly_slow_down(my_car):\n",
    "            speed = my_car.current_speed - 2\n",
    "            return speed\n",
    "        if current_speed < (my_car.max_speed-2):\n",
    "        #     #will car collide?\n",
    "        #     speed = current_speed + my_car.acceleration\n",
    "        #     if car_in_front.current_position <= my_front + speed:\n",
    "        #         speed =\n",
    "        # TODO below is just a test of accellerating the cars 2ms each second\n",
    "        # no rules\n",
    "            speed = current_speed + my_car.acceleration\n",
    "        else:\n",
    "            speed = current_speed\n",
    "        #speed = current_speed + my_car.acceleration\n",
    "        return speed\n",
    "\n",
    "    def will_randomly_slow_down(self, car):\n",
    "        \"\"\"Drivers will randomly (10% chance each second) slow by 2 m/s \"\"\"\n",
    "        number_of_true = 10 * car.chance_of_deceleration\n",
    "        number_of_false = 10- (int(number_of_true))\n",
    "        choices_list = list(int(number_of_true)*[True])\n",
    "        choices_list.extend(list(number_of_false*[False]))\n",
    "        selection = random.choice(choices_list)\n",
    "        return selection\n",
    "\n",
    "\n",
    "    def run(self):\n",
    "        \"\"\"This runs ONE simulation or ONE 60-second trial\"\"\"\n",
    "        # generate 2 empty np arrays for car speeds & car positions at each second\n",
    "        self.speed_snapshots_array = np.zeros((self.duration, self.number_of_cars_on_road)) #(60,30)\n",
    "        self.position_snapshots_array = np.zeros((self.duration, self.number_of_cars_on_road))\n",
    "        self.make_cars()\n",
    "        initial_layout_position_list = self.layout_cars()\n",
    "        while self.second < 60:\n",
    "        # TODO uncomment this code block if minute loop doesnt work\n",
    "        # # layout where each car needs to be on the road and store in car.current_position\n",
    "            self.move_all_cars()\n",
    "            self.second += 1\n",
    "        # convert the speed_snapshots_array into a (30,) array of average speeds\n",
    "        #a.sum(axis=0) # sum over rows for each of the 3 columns\n",
    "        average_speeds_each_car_array = self.speed_snapshots_array.mean(axis=0)\n",
    "        # you can pack it in tuples!\n",
    "        #print(\"****\")\n",
    "        #print(average_speeds_each_car_array + average_speeds_each_car_array)\n",
    "        return average_speeds_each_car_array, self.position_snapshots_array\n"
   ]
  },
  {
   "cell_type": "code",
   "execution_count": 2,
   "metadata": {
    "collapsed": true
   },
   "outputs": [],
   "source": [
    "%matplotlib inline"
   ]
  },
  {
   "cell_type": "code",
   "execution_count": 3,
   "metadata": {
    "collapsed": false
   },
   "outputs": [],
   "source": [
    "gigantic_speeds_each_car_array = np.array([])\n",
    "\n",
    "for x in range(10):\n",
    "    simulation = Simulation()\n",
    "    road = Road()\n",
    "    average_speeds_each_car_array, position_snapshots_array = simulation.run()\n",
    "    #print(average_speeds_each_car_array)\n",
    "    if gigantic_speeds_each_car_array.size == 0:\n",
    "        gigantic_speeds_each_car_array = average_speeds_each_car_array\n",
    "    else:\n",
    "        gigantic_speeds_each_car_array = np.vstack((gigantic_speeds_each_car_array,average_speeds_each_car_array))\n",
    "    #gigantic_speeds_each_car_array = average_speeds_each_car_array"
   ]
  },
  {
   "cell_type": "code",
   "execution_count": null,
   "metadata": {
    "collapsed": false
   },
   "outputs": [],
   "source": []
  },
  {
   "cell_type": "markdown",
   "metadata": {},
   "source": [
    "TODO: μ speed for 1000 trials :\n",
    "1. Make array/list of mean speed of each car for 1000 trials (30 cars, 1000 trials):\n",
    "2. Update that array/list each trial\n",
    "\n",
    "TODO: σ of avg speed for 1000 trials\n",
    "\n",
    "##Optimal Speed\n",
    "    "
   ]
  },
  {
   "cell_type": "code",
   "execution_count": 4,
   "metadata": {
    "collapsed": false
   },
   "outputs": [
    {
     "name": "stdout",
     "output_type": "stream",
     "text": [
      "*******\n",
      "μ speed for all cars all trials is 26.916777777777774\n",
      "with a σ of 0.8790174591229658\n",
      "Speed limit for this road should be 27.79579523690074\n"
     ]
    }
   ],
   "source": [
    "stan_dev_speed_per_car = gigantic_speeds_each_car_array.std(axis=1)  # standard deviation from μ speed of each car\n",
    "all_trials_stan_dev_speed = np.sum(stan_dev_speed_per_car) / len(stan_dev_speed_per_car)  #standard dev of all cars\n",
    "mean_speed_per_car = gigantic_speeds_each_car_array.mean(axis=1)     # μ speed for each car all trials\n",
    "all_trials_mean_speed = np.sum(mean_speed_per_car) / len(mean_speed_per_car)  # μ speed for all cars all trials\n",
    "print(\"*******\")\n",
    "print(\"μ speed for all cars all trials is {}\".format(all_trials_mean_speed))\n",
    "print(\"with a σ of {}\".format(all_trials_stan_dev_speed))\n",
    "print(\"Speed limit for this road should be {}\".format(all_trials_stan_dev_speed + all_trials_mean_speed))"
   ]
  },
  {
   "cell_type": "markdown",
   "metadata": {},
   "source": [
    "##μ Speed per Trial Visualization"
   ]
  },
  {
   "cell_type": "code",
   "execution_count": 5,
   "metadata": {
    "collapsed": false
   },
   "outputs": [
    {
     "ename": "ValueError",
     "evalue": "x and y must be the same size",
     "output_type": "error",
     "traceback": [
      "\u001b[0;31m---------------------------------------------------------------------------\u001b[0m",
      "\u001b[0;31mValueError\u001b[0m                                Traceback (most recent call last)",
      "\u001b[0;32m<ipython-input-5-a7fb802612c2>\u001b[0m in \u001b[0;36m<module>\u001b[0;34m()\u001b[0m\n\u001b[0;32m----> 1\u001b[0;31m \u001b[0mplt\u001b[0m\u001b[0;34m.\u001b[0m\u001b[0mscatter\u001b[0m\u001b[0;34m(\u001b[0m\u001b[0mrange\u001b[0m\u001b[0;34m(\u001b[0m\u001b[0;36m1000\u001b[0m\u001b[0;34m)\u001b[0m\u001b[0;34m,\u001b[0m\u001b[0mmean_speed_per_car\u001b[0m\u001b[0;34m)\u001b[0m\u001b[0;34m\u001b[0m\u001b[0m\n\u001b[0m\u001b[1;32m      2\u001b[0m \u001b[0mplt\u001b[0m\u001b[0;34m.\u001b[0m\u001b[0mxlim\u001b[0m\u001b[0;34m(\u001b[0m\u001b[0;36m0\u001b[0m\u001b[0;34m,\u001b[0m\u001b[0;36m1000\u001b[0m\u001b[0;34m)\u001b[0m\u001b[0;34m\u001b[0m\u001b[0m\n\u001b[1;32m      3\u001b[0m \u001b[0mplt\u001b[0m\u001b[0;34m.\u001b[0m\u001b[0mxlabel\u001b[0m\u001b[0;34m(\u001b[0m\u001b[0;34m\"trial\"\u001b[0m\u001b[0;34m)\u001b[0m\u001b[0;34m\u001b[0m\u001b[0m\n\u001b[1;32m      4\u001b[0m \u001b[0mplt\u001b[0m\u001b[0;34m.\u001b[0m\u001b[0mylabel\u001b[0m\u001b[0;34m(\u001b[0m\u001b[0;34m\"speed\"\u001b[0m\u001b[0;34m)\u001b[0m\u001b[0;34m\u001b[0m\u001b[0m\n\u001b[1;32m      5\u001b[0m \u001b[0mplt\u001b[0m\u001b[0;34m.\u001b[0m\u001b[0mshow\u001b[0m\u001b[0;34m(\u001b[0m\u001b[0;34m)\u001b[0m\u001b[0;34m\u001b[0m\u001b[0m\n",
      "\u001b[0;32m/Users/margaretblue/ironyard/sandbox/traffic-simulation/.direnv/python-3.4.3/lib/python3.4/site-packages/matplotlib/pyplot.py\u001b[0m in \u001b[0;36mscatter\u001b[0;34m(x, y, s, c, marker, cmap, norm, vmin, vmax, alpha, linewidths, verts, hold, **kwargs)\u001b[0m\n\u001b[1;32m   3198\u001b[0m         ret = ax.scatter(x, y, s=s, c=c, marker=marker, cmap=cmap, norm=norm,\n\u001b[1;32m   3199\u001b[0m                          \u001b[0mvmin\u001b[0m\u001b[0;34m=\u001b[0m\u001b[0mvmin\u001b[0m\u001b[0;34m,\u001b[0m \u001b[0mvmax\u001b[0m\u001b[0;34m=\u001b[0m\u001b[0mvmax\u001b[0m\u001b[0;34m,\u001b[0m \u001b[0malpha\u001b[0m\u001b[0;34m=\u001b[0m\u001b[0malpha\u001b[0m\u001b[0;34m,\u001b[0m\u001b[0;34m\u001b[0m\u001b[0m\n\u001b[0;32m-> 3200\u001b[0;31m                          linewidths=linewidths, verts=verts, **kwargs)\n\u001b[0m\u001b[1;32m   3201\u001b[0m         \u001b[0mdraw_if_interactive\u001b[0m\u001b[0;34m(\u001b[0m\u001b[0;34m)\u001b[0m\u001b[0;34m\u001b[0m\u001b[0m\n\u001b[1;32m   3202\u001b[0m     \u001b[0;32mfinally\u001b[0m\u001b[0;34m:\u001b[0m\u001b[0;34m\u001b[0m\u001b[0m\n",
      "\u001b[0;32m/Users/margaretblue/ironyard/sandbox/traffic-simulation/.direnv/python-3.4.3/lib/python3.4/site-packages/matplotlib/axes/_axes.py\u001b[0m in \u001b[0;36mscatter\u001b[0;34m(self, x, y, s, c, marker, cmap, norm, vmin, vmax, alpha, linewidths, verts, **kwargs)\u001b[0m\n\u001b[1;32m   3589\u001b[0m         \u001b[0my\u001b[0m \u001b[0;34m=\u001b[0m \u001b[0mnp\u001b[0m\u001b[0;34m.\u001b[0m\u001b[0mma\u001b[0m\u001b[0;34m.\u001b[0m\u001b[0mravel\u001b[0m\u001b[0;34m(\u001b[0m\u001b[0my\u001b[0m\u001b[0;34m)\u001b[0m\u001b[0;34m\u001b[0m\u001b[0m\n\u001b[1;32m   3590\u001b[0m         \u001b[0;32mif\u001b[0m \u001b[0mx\u001b[0m\u001b[0;34m.\u001b[0m\u001b[0msize\u001b[0m \u001b[0;34m!=\u001b[0m \u001b[0my\u001b[0m\u001b[0;34m.\u001b[0m\u001b[0msize\u001b[0m\u001b[0;34m:\u001b[0m\u001b[0;34m\u001b[0m\u001b[0m\n\u001b[0;32m-> 3591\u001b[0;31m             \u001b[0;32mraise\u001b[0m \u001b[0mValueError\u001b[0m\u001b[0;34m(\u001b[0m\u001b[0;34m\"x and y must be the same size\"\u001b[0m\u001b[0;34m)\u001b[0m\u001b[0;34m\u001b[0m\u001b[0m\n\u001b[0m\u001b[1;32m   3592\u001b[0m \u001b[0;34m\u001b[0m\u001b[0m\n\u001b[1;32m   3593\u001b[0m         \u001b[0ms\u001b[0m \u001b[0;34m=\u001b[0m \u001b[0mnp\u001b[0m\u001b[0;34m.\u001b[0m\u001b[0mma\u001b[0m\u001b[0;34m.\u001b[0m\u001b[0mravel\u001b[0m\u001b[0;34m(\u001b[0m\u001b[0ms\u001b[0m\u001b[0;34m)\u001b[0m  \u001b[0;31m# This doesn't have to match x, y in size.\u001b[0m\u001b[0;34m\u001b[0m\u001b[0m\n",
      "\u001b[0;31mValueError\u001b[0m: x and y must be the same size"
     ]
    },
    {
     "data": {
      "image/png": "[encoded data removed]",
      "text/plain": [
       "<matplotlib.figure.Figure at 0x111c75a20>"
      ]
     },
     "metadata": {},
     "output_type": "display_data"
    }
   ],
   "source": [
    "plt.scatter(range(1000),mean_speed_per_car)\n",
    "plt.xlim(0,1000)\n",
    "plt.xlabel(\"trial\")\n",
    "plt.ylabel(\"speed\")\n",
    "plt.show()"
   ]
  },
  {
   "cell_type": "markdown",
   "metadata": {},
   "source": [
    "##Vehicle Traffic Movement Visualization for one minute"
   ]
  },
  {
   "cell_type": "code",
   "execution_count": 6,
   "metadata": {
    "collapsed": false
   },
   "outputs": [
    {
     "data": {
      "image/png": "[encoded data removed]",
      "text/plain": [
       "<matplotlib.figure.Figure at 0x111de0da0>"
      ]
     },
     "metadata": {},
     "output_type": "display_data"
    }
   ],
   "source": [
    "plt.ylim(0,60)\n",
    "plt.xlim(0,1000)\n",
    "plt.xlabel(\"Meter Marker Position on Road\")\n",
    "plt.ylabel(\"Second\")\n",
    "for i in range(30):\n",
    "    plt.scatter(position_snapshots_array[:,i], range(60))\n",
    "plt.show()"
   ]
  },
  {
   "cell_type": "code",
   "execution_count": null,
   "metadata": {
    "collapsed": true
   },
   "outputs": [],
   "source": []
  },
  {
   "cell_type": "code",
   "execution_count": null,
   "metadata": {
    "collapsed": true
   },
   "outputs": [],
   "source": []
  }
 ],
 "metadata": {
  "kernelspec": {
   "display_name": "Python 3",
   "language": "python",
   "name": "python3"
  },
  "language_info": {
   "codemirror_mode": {
    "name": "ipython",
    "version": 3
   },
   "file_extension": ".py",
   "mimetype": "text/x-python",
   "name": "python",
   "nbconvert_exporter": "python",
   "pygments_lexer": "ipython3",
   "version": "3.4.3"
  }
 },
 "nbformat": 4,
 "nbformat_minor": 0
}
